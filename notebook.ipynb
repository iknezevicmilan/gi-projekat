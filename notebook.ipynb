{
 "cells": [
  {
   "cell_type": "code",
   "execution_count": 1,
   "metadata": {},
   "outputs": [],
   "source": [
    "def generate_simple_suffix_array(t):\n",
    "    tuples = sorted([(t[i:], i) for i in range(len(t))])\n",
    "    return map(lambda x: x[1], tuples)"
   ]
  },
  {
   "cell_type": "code",
   "execution_count": 2,
   "metadata": {},
   "outputs": [
    {
     "name": "stdout",
     "output_type": "stream",
     "text": [
      "Test generate_simple_suffix_array('abaaba$')\n",
      "Passed\n",
      "\n",
      "Test generate_simple_suffix_array('BANANA$')\n",
      "Passed\n",
      "\n",
      "Test generate_simple_suffix_array('GATGCGAGAGATG$')\n",
      "Passed\n",
      "\n"
     ]
    }
   ],
   "source": [
    "gssa_config = [\n",
    "    { 't': 'abaaba$', 'suffix_array_tuple': (6, 5, 2, 3, 0, 4, 1) },\n",
    "    { 't': 'BANANA$', 'suffix_array_tuple': (6, 5, 3, 1, 0, 4, 2) },\n",
    "    { 't': 'GATGCGAGAGATG$', 'suffix_array_tuple': (13, 6, 8, 10, 1, 4, 12, 5, 7, 9, 0, 3, 11, 2) }\n",
    "]\n",
    "\n",
    "for i in range(len(gssa_config)):\n",
    "    print('Test generate_simple_suffix_array(\\'' + gssa_config[i]['t'] + '\\')')\n",
    "\n",
    "    suffix_array = generate_simple_suffix_array(gssa_config[i]['t'])\n",
    "    assert tuple(suffix_array) == gssa_config[i]['suffix_array_tuple']\n",
    "\n",
    "    print('Passed', end='\\n\\n')"
   ]
  },
  {
   "cell_type": "code",
   "execution_count": 3,
   "metadata": {},
   "outputs": [],
   "source": [
    "def bwt(t):\n",
    "    l = []\n",
    "    \n",
    "    suffix_array = generate_simple_suffix_array(t)\n",
    "    \n",
    "    for n in suffix_array:\n",
    "        if n == 0:\n",
    "            l.append('$')\n",
    "        else:\n",
    "            l.append(t[n - 1])\n",
    "    \n",
    "    return ''.join(l)"
   ]
  },
  {
   "cell_type": "code",
   "execution_count": 4,
   "metadata": {},
   "outputs": [
    {
     "name": "stdout",
     "output_type": "stream",
     "text": [
      "Test bwt('abaaba$')\n",
      "Passed\n",
      "\n",
      "Test bwt('Tomorrow_and_tomorrow_and_tomorrow$')\n",
      "Passed\n",
      "\n",
      "Test bwt('It_was_the_best_of_times_it_was_the_worst_of_times$')\n",
      "Passed\n",
      "\n",
      "Test bwt('in_the_jingle_jangle_morning_Ill_come_following_you$')\n",
      "Passed\n",
      "\n",
      "Test bwt('BANANA$')\n",
      "Passed\n",
      "\n",
      "Test bwt('GATGCGAGAGATG$')\n",
      "Passed\n",
      "\n"
     ]
    }
   ],
   "source": [
    "bwt_config = [\n",
    "    { 't': 'abaaba$', 'l': 'abba$aa' },\n",
    "    { 't': 'Tomorrow_and_tomorrow_and_tomorrow$', 'l': 'w$wwdd__nnoooaattTmmmrrrrrrooo__ooo' },\n",
    "    { 't': 'It_was_the_best_of_times_it_was_the_worst_of_times$', 'l': 's$esttssfftteww_hhmmbootttt_ii__woeeaaressIi_______' },\n",
    "    { 't': 'in_the_jingle_jangle_morning_Ill_come_following_you$', 'l': 'u_gleeeengj_mlhl_nnnnt$nwj__lggIolo_iiiiarfcmylo_oo_' },\n",
    "    { 't': 'BANANA$', 'l': 'ANNB$AA' },\n",
    "    { 't': 'GATGCGAGAGATG$', 'l': 'GGGGGGTCAA$TAA' }\n",
    "]\n",
    "\n",
    "for i in range(len(bwt_config)):\n",
    "    print('Test bwt(\\'' + bwt_config[i]['t'] + '\\')')\n",
    "\n",
    "    assert bwt(bwt_config[i]['t'])  == bwt_config[i]['l']\n",
    "\n",
    "    print('Passed', end='\\n\\n')"
   ]
  },
  {
   "cell_type": "code",
   "execution_count": 5,
   "metadata": {},
   "outputs": [],
   "source": [
    "def parse_l(l, tally_factor=1):\n",
    "    if (tally_factor > len(l)):\n",
    "        tally_factor = len(l)\n",
    "    \n",
    "    chars = sorted(set(l))\n",
    "    chars.remove('$')\n",
    "    \n",
    "    c_cnt = {}\n",
    "    for c in chars:\n",
    "        c_cnt[c] = 0\n",
    "    \n",
    "    tally = []\n",
    "    \n",
    "    for i in range(len(l)):\n",
    "        c = l[i]\n",
    "        \n",
    "        if c != '$':\n",
    "            c_cnt[c] += 1\n",
    "        \n",
    "        if not(i % tally_factor):\n",
    "            row = {}\n",
    "            \n",
    "            for c in chars:\n",
    "                row[c] = c_cnt[c]\n",
    "                \n",
    "            tally.append(row)\n",
    "            \n",
    "    f = {}\n",
    "    \n",
    "    i = 0\n",
    "    for c in chars:\n",
    "        if i == 0:\n",
    "            f[c] = 1\n",
    "        else:\n",
    "            f[c] = f[prev_c] + c_cnt[prev_c]\n",
    "        \n",
    "        i += 1\n",
    "        prev_c = c\n",
    "        \n",
    "    return (f, tally)"
   ]
  },
  {
   "cell_type": "code",
   "execution_count": 6,
   "metadata": {},
   "outputs": [
    {
     "name": "stdout",
     "output_type": "stream",
     "text": [
      "Test parse_l('abba$aa', 1)\n",
      "Passed\n",
      "\n",
      "Test parse_l('abba$aa', 2)\n",
      "Passed\n",
      "\n",
      "Test parse_l('abba$aa', 3)\n",
      "Passed\n",
      "\n",
      "Test parse_l('abba$aa', 4)\n",
      "Passed\n",
      "\n",
      "Test parse_l('abba$aa', 5)\n",
      "Passed\n",
      "\n",
      "Test parse_l('abba$aa', 6)\n",
      "Passed\n",
      "\n",
      "Test parse_l('abba$aa', 7)\n",
      "Passed\n",
      "\n"
     ]
    }
   ],
   "source": [
    "t = 'abaaba$'\n",
    "\n",
    "pl_config = {\n",
    "    'l': bwt(t),\n",
    "    'output': [\n",
    "        { \n",
    "            'f': { 'a': 1, 'b': 5 },\n",
    "            'tally': [\n",
    "                { 'a': 1, 'b': 0 }, #0\n",
    "                { 'a': 1, 'b': 1 }, #1\n",
    "                { 'a': 1, 'b': 2 }, #2\n",
    "                { 'a': 2, 'b': 2 }, #3\n",
    "                { 'a': 2, 'b': 2 }, #4\n",
    "                { 'a': 3, 'b': 2 }, #5\n",
    "                { 'a': 4, 'b': 2 }  #6\n",
    "            ]\n",
    "        },\n",
    "        {\n",
    "            'f': { 'a': 1, 'b': 5 },\n",
    "            'tally': [\n",
    "                { 'a': 1, 'b': 0 }, #0\n",
    "                { 'a': 1, 'b': 2 }, #2\n",
    "                { 'a': 2, 'b': 2 }, #4\n",
    "                { 'a': 4, 'b': 2 }  #6\n",
    "            ]\n",
    "        },\n",
    "        {\n",
    "            'f': { 'a': 1, 'b': 5 },\n",
    "            'tally': [\n",
    "                { 'a': 1, 'b': 0 }, #0\n",
    "                { 'a': 2, 'b': 2 }, #3\n",
    "                { 'a': 4, 'b': 2 }  #6\n",
    "            ]\n",
    "        },\n",
    "        {\n",
    "            'f': { 'a': 1, 'b': 5 },\n",
    "            'tally': [\n",
    "                { 'a': 1, 'b': 0 }, #0\n",
    "                { 'a': 2, 'b': 2 }  #4\n",
    "            ]\n",
    "        },\n",
    "        {\n",
    "            'f': { 'a': 1, 'b': 5 },\n",
    "            'tally': [\n",
    "                { 'a': 1, 'b': 0 }, #0\n",
    "                { 'a': 3, 'b': 2 }  #5\n",
    "            ]\n",
    "        },\n",
    "        {\n",
    "            'f': { 'a': 1, 'b': 5 },\n",
    "            'tally': [\n",
    "                { 'a': 1, 'b': 0 }, #0\n",
    "                { 'a': 4, 'b': 2 }  #6\n",
    "            ]\n",
    "        },\n",
    "        {\n",
    "            'f': { 'a': 1, 'b': 5 },\n",
    "            'tally': [\n",
    "                { 'a': 1, 'b': 0 } #0\n",
    "            ]\n",
    "        }\n",
    "    ]\n",
    "}\n",
    "\n",
    "for i in range(len(t)):\n",
    "    print('Test parse_l(\\'' + pl_config['l'] + '\\', ' + str(i + 1) + ')')\n",
    "    \n",
    "    f, tally = parse_l(pl_config['l'], i + 1)\n",
    "    \n",
    "    assert f == pl_config['output'][i]['f']\n",
    "    assert tally == pl_config['output'][i]['tally']\n",
    "    \n",
    "    print('Passed', end='\\n\\n')"
   ]
  },
  {
   "cell_type": "code",
   "execution_count": 7,
   "metadata": {},
   "outputs": [],
   "source": [
    "def reverse_bwt(l):\n",
    "    f, tally = parse_l(l) # call with tally_factor=1 so that tally could be read like a regular list\n",
    "    \n",
    "    i = 0\n",
    "    t = '$'\n",
    "    \n",
    "    while l[i] != '$':\n",
    "        c = l[i]\n",
    "        t = c + t\n",
    "        i = f[c] + tally[i][c] - 1\n",
    "        \n",
    "    return t"
   ]
  },
  {
   "cell_type": "code",
   "execution_count": 8,
   "metadata": {},
   "outputs": [
    {
     "name": "stdout",
     "output_type": "stream",
     "text": [
      "Test reverse_bwt('abba$aa')\n",
      "Passed\n",
      "\n",
      "Test reverse_bwt('w$wwdd__nnoooaattTmmmrrrrrrooo__ooo')\n",
      "Passed\n",
      "\n",
      "Test reverse_bwt('s$esttssfftteww_hhmmbootttt_ii__woeeaaressIi_______')\n",
      "Passed\n",
      "\n",
      "Test reverse_bwt('u_gleeeengj_mlhl_nnnnt$nwj__lggIolo_iiiiarfcmylo_oo_')\n",
      "Passed\n",
      "\n",
      "Test reverse_bwt('ANNB$AA')\n",
      "Passed\n",
      "\n",
      "Test reverse_bwt('GGGGGGTCAA$TAA')\n",
      "Passed\n",
      "\n"
     ]
    }
   ],
   "source": [
    "rbwt_config = [\n",
    "    { 't': 'abaaba$', 'l': 'abba$aa' },\n",
    "    { 't': 'Tomorrow_and_tomorrow_and_tomorrow$', 'l': 'w$wwdd__nnoooaattTmmmrrrrrrooo__ooo' },\n",
    "    { 't': 'It_was_the_best_of_times_it_was_the_worst_of_times$', 'l': 's$esttssfftteww_hhmmbootttt_ii__woeeaaressIi_______' },\n",
    "    { 't': 'in_the_jingle_jangle_morning_Ill_come_following_you$', 'l': 'u_gleeeengj_mlhl_nnnnt$nwj__lggIolo_iiiiarfcmylo_oo_' },\n",
    "    { 't': 'BANANA$', 'l': 'ANNB$AA' },\n",
    "    { 't': 'GATGCGAGAGATG$', 'l': 'GGGGGGTCAA$TAA' }\n",
    "]\n",
    "\n",
    "for i in range(len(bwt_config)):\n",
    "    print('Test reverse_bwt(\\'' + bwt_config[i]['l'] + '\\')')\n",
    "    \n",
    "    assert reverse_bwt(bwt_config[i]['l'])  == bwt_config[i]['t']\n",
    "    \n",
    "    print('Passed', end='\\n\\n')"
   ]
  },
  {
   "cell_type": "code",
   "execution_count": 9,
   "metadata": {},
   "outputs": [],
   "source": [
    "def lookup_tally(tally, i, c, l, tally_factor=1):\n",
    "    if (tally_factor > len(l)):\n",
    "        tally_factor = len(l)\n",
    "    \n",
    "    nearest_i = int(round(i / tally_factor))\n",
    "    \n",
    "    if (nearest_i == len(tally)) and (i % tally_factor):\n",
    "        nearest_i -= 1\n",
    "    \n",
    "    result = tally[nearest_i][c]\n",
    "    \n",
    "    if i % tally_factor:\n",
    "        x = nearest_i * tally_factor\n",
    "        y = i\n",
    "        \n",
    "        asc = x < y\n",
    "        lower = (x if asc else y) + 1\n",
    "        upper = (y if asc else x) + 1\n",
    "        \n",
    "        for l_c in l[lower:upper]:\n",
    "            if l_c == c:\n",
    "                result += (1 if asc else -1) * 1\n",
    "                \n",
    "    return result"
   ]
  },
  {
   "cell_type": "code",
   "execution_count": 10,
   "metadata": {},
   "outputs": [
    {
     "name": "stdout",
     "output_type": "stream",
     "text": [
      "Test lookup_tally, tally_factor=1\n",
      "Passed\n",
      "\n",
      "Test lookup_tally, tally_factor=2\n",
      "Passed\n",
      "\n",
      "Test lookup_tally, tally_factor=3\n",
      "Passed\n",
      "\n",
      "Test lookup_tally, tally_factor=4\n",
      "Passed\n",
      "\n",
      "Test lookup_tally, tally_factor=5\n",
      "Passed\n",
      "\n",
      "Test lookup_tally, tally_factor=6\n",
      "Passed\n",
      "\n",
      "Test lookup_tally, tally_factor=7\n",
      "Passed\n",
      "\n"
     ]
    }
   ],
   "source": [
    "t = 'abaaba$'\n",
    "l = bwt(t)\n",
    "\n",
    "for i in range(len(l)):\n",
    "    print('Test lookup_tally, tally_factor=' + str(i + 1))\n",
    "    \n",
    "    smaller_tally = parse_l(l, i + 1)[1]\n",
    "    \n",
    "    tally = []\n",
    "    \n",
    "    for j in range(len(l)):\n",
    "        tally.append(\n",
    "            { \n",
    "                'a': lookup_tally(smaller_tally, j, 'a', l, i + 1),\n",
    "                'b': lookup_tally(smaller_tally, j, 'b', l, i + 1)\n",
    "            }\n",
    "        )\n",
    "    \n",
    "    assert tally == parse_l(l)[1]\n",
    "    \n",
    "    print('Passed', end='\\n\\n')"
   ]
  },
  {
   "cell_type": "code",
   "execution_count": 11,
   "metadata": {},
   "outputs": [],
   "source": [
    "def generate_suffix_array(t, sa_factor=1):\n",
    "    if (sa_factor > len(t)):\n",
    "        sa_factor = len(t)\n",
    "    \n",
    "    elems = sorted([[t[i:], i, 0] for i in range(len(t))]) # use list instead of tuple\n",
    "    \n",
    "    i = 0\n",
    "    \n",
    "    for i in range(len(elems)):\n",
    "        elems[i][2] = i\n",
    "    \n",
    "    elems = filter(lambda e: not(e[1] % sa_factor), elems)\n",
    "    \n",
    "    suffix_array = {}\n",
    "    \n",
    "    for e in elems:\n",
    "        suffix_array[e[2]] = e[1]\n",
    "        \n",
    "    return suffix_array"
   ]
  },
  {
   "cell_type": "code",
   "execution_count": 12,
   "metadata": {},
   "outputs": [
    {
     "name": "stdout",
     "output_type": "stream",
     "text": [
      "Test generate_suffix_array('abaaba$', 1)\n",
      "Passed\n",
      "\n",
      "Test generate_suffix_array('abaaba$', 2)\n",
      "Passed\n",
      "\n",
      "Test generate_suffix_array('abaaba$', 3)\n",
      "Passed\n",
      "\n",
      "Test generate_suffix_array('abaaba$', 4)\n",
      "Passed\n",
      "\n",
      "Test generate_suffix_array('abaaba$', 5)\n",
      "Passed\n",
      "\n",
      "Test generate_suffix_array('abaaba$', 6)\n",
      "Passed\n",
      "\n",
      "Test generate_suffix_array('abaaba$', 7)\n",
      "Passed\n",
      "\n"
     ]
    }
   ],
   "source": [
    "gsa_config = {\n",
    "    't': 'abaaba$',\n",
    "    'output': [\n",
    "        { 'suffix_array': { 0: 6, 1: 5, 2: 2, 3: 3, 4: 0, 5: 4, 6: 1 } },\n",
    "        { 'suffix_array': { 0: 6, 2: 2, 4: 0, 5: 4 } },\n",
    "        { 'suffix_array': { 0: 6, 3: 3, 4: 0 } },\n",
    "        { 'suffix_array': { 4: 0, 5: 4 } },\n",
    "        { 'suffix_array': { 1: 5, 4: 0 } },\n",
    "        { 'suffix_array': { 0: 6, 4: 0 } },\n",
    "        { 'suffix_array': { 4: 0 } }\n",
    "    ]\n",
    "}\n",
    "\n",
    "for i in range(len(gsa_config['t'])):\n",
    "    print('Test generate_suffix_array(\\'' + gsa_config['t'] + '\\', ' + str(i + 1) + ')')\n",
    "    \n",
    "    assert generate_suffix_array(gsa_config['t'], i + 1) == gsa_config['output'][i]['suffix_array']\n",
    "    \n",
    "    print('Passed', end='\\n\\n')"
   ]
  },
  {
   "cell_type": "code",
   "execution_count": 13,
   "metadata": {},
   "outputs": [],
   "source": [
    "def lookup_suffix_array(suffix_array, i, l, f, tally, tally_factor=1):\n",
    "    if (tally_factor > len(l)):\n",
    "        tally_factor = len(l)\n",
    "    \n",
    "    steps = 0\n",
    "    \n",
    "    row = i\n",
    "    \n",
    "    while row not in suffix_array:\n",
    "        steps += 1\n",
    "        c = l[row]\n",
    "        rank = lookup_tally(tally, row, c, l, tally_factor) - 1\n",
    "        row = f[c] + rank\n",
    "    \n",
    "    return suffix_array[row] + steps"
   ]
  },
  {
   "cell_type": "code",
   "execution_count": 14,
   "metadata": {},
   "outputs": [
    {
     "name": "stdout",
     "output_type": "stream",
     "text": [
      "Test lookup_suffix_array, sa_factor=1\n",
      "Passed\n",
      "\n",
      "Test lookup_suffix_array, sa_factor=2\n",
      "Passed\n",
      "\n",
      "Test lookup_suffix_array, sa_factor=3\n",
      "Passed\n",
      "\n",
      "Test lookup_suffix_array, sa_factor=4\n",
      "Passed\n",
      "\n",
      "Test lookup_suffix_array, sa_factor=5\n",
      "Passed\n",
      "\n",
      "Test lookup_suffix_array, sa_factor=6\n",
      "Passed\n",
      "\n",
      "Test lookup_suffix_array, sa_factor=7\n",
      "Passed\n",
      "\n"
     ]
    }
   ],
   "source": [
    "t = 'abaaba$'\n",
    "\n",
    "for i in range(len(t)):\n",
    "    print('Test lookup_suffix_array, sa_factor=' + str(i + 1))\n",
    "    \n",
    "    smaller_suffix_array = generate_suffix_array(t, i + 1)\n",
    "    l = bwt(t)\n",
    "    f, tally = parse_l(l)\n",
    "    \n",
    "    suffix_array = {}\n",
    "    \n",
    "    for j in range(len(t)):\n",
    "        suffix_array[j] = lookup_suffix_array(smaller_suffix_array, j, l, f, tally)\n",
    "    \n",
    "    assert suffix_array == generate_suffix_array(t)\n",
    "    \n",
    "    print('Passed', end='\\n\\n')"
   ]
  },
  {
   "cell_type": "code",
   "execution_count": 15,
   "metadata": {},
   "outputs": [],
   "source": [
    "def bwt_search_prep(t, sa_factor=1, tally_factor=1):\n",
    "    if (sa_factor > len(t)):\n",
    "        sa_factor = len(t)\n",
    "    \n",
    "    if (tally_factor > len(t)):\n",
    "        tally_factor = len(t)\n",
    "    \n",
    "    l = bwt(t)\n",
    "    suffix_array = generate_suffix_array(t, sa_factor)\n",
    "    f, tally = parse_l(l, tally_factor)\n",
    "    \n",
    "    return (l, suffix_array, f, tally)"
   ]
  },
  {
   "cell_type": "code",
   "execution_count": 16,
   "metadata": {},
   "outputs": [],
   "source": [
    "def bwt_search(l, suffix_array, f, tally, p, tally_factor=1):\n",
    "    if (tally_factor > len(t)):\n",
    "        tally_factor = len(t)\n",
    "    \n",
    "    occurences = []\n",
    "    \n",
    "    p_upper = len(p)\n",
    "    \n",
    "    f_list = list(f)\n",
    "    range_c = p[p_upper - 1]\n",
    "    range_c_i = f_list.index(range_c)\n",
    "    \n",
    "    range_min = f[range_c]\n",
    "    range_max = f[f_list[range_c_i + 1]] - 1 if (range_c_i < len(f_list) - 1) else (len(l) - 1) # if last c in f\n",
    "    \n",
    "    for p_lower in range(p_upper - 1, -1, -1):\n",
    "        if p_lower == 0:\n",
    "            for i in range(range_min, range_max + 1):\n",
    "                occurences.append(lookup_suffix_array(suffix_array, i, l, f, tally, tally_factor))\n",
    "        else:\n",
    "            c = p[p_lower - 1]\n",
    "            \n",
    "            tally_min = lookup_tally(tally, range_min - 1, c, l, tally_factor)\n",
    "            tally_max = lookup_tally(tally, range_max, c, l, tally_factor)\n",
    "\n",
    "            cnt = tally_max - tally_min\n",
    "\n",
    "            if cnt == 0:\n",
    "                break;\n",
    "\n",
    "            range_min = f[c] + tally_min\n",
    "            range_max = range_min + cnt - 1\n",
    "    \n",
    "    return occurences"
   ]
  },
  {
   "cell_type": "code",
   "execution_count": 17,
   "metadata": {},
   "outputs": [
    {
     "name": "stdout",
     "output_type": "stream",
     "text": [
      "Test search for pattern 'aba' in text 'abaaba'\n",
      "Passed\n",
      "\n",
      "Test search for pattern 'bba' in text 'abaaba'\n",
      "Passed\n",
      "\n",
      "Test search for pattern 'ANA' in text 'BANANA'\n",
      "Passed\n",
      "\n",
      "Test search for pattern 'GAGA' in text 'GATGCGAGAGATG'\n",
      "Passed\n",
      "\n"
     ]
    }
   ],
   "source": [
    "bwt_search_config = [\n",
    "    { 't_wo_dollar': 'abaaba', 'p': 'aba', 'occurences': [ 3, 0 ] },\n",
    "    { 't_wo_dollar': 'abaaba', 'p': 'bba', 'occurences': [] },\n",
    "    { 't_wo_dollar': 'BANANA', 'p': 'ANA', 'occurences': [ 3, 1 ] },\n",
    "    { 't_wo_dollar': 'GATGCGAGAGATG', 'p': 'GAGA', 'occurences': [ 5, 7 ] }\n",
    "]\n",
    "\n",
    "for i in range(len(bwt_search_config)):\n",
    "    t_wo_dollar = bwt_search_config[i]['t_wo_dollar']\n",
    "    p = bwt_search_config[i]['p']\n",
    "    \n",
    "    print('Test search for pattern \\'' + p + '\\' in text \\'' + t_wo_dollar + '\\'')\n",
    "    \n",
    "    l, suffix_array, f, tally = bwt_search_prep(t_wo_dollar + '$')\n",
    "    \n",
    "    assert bwt_search(l, suffix_array, f, tally, p) == bwt_search_config[i]['occurences']\n",
    "    \n",
    "    print('Passed', end='\\n\\n')"
   ]
  },
  {
   "cell_type": "code",
   "execution_count": 18,
   "metadata": {},
   "outputs": [],
   "source": [
    "from Bio.SeqIO.FastaIO import FastaIterator"
   ]
  },
  {
   "cell_type": "code",
   "execution_count": 19,
   "metadata": {},
   "outputs": [],
   "source": [
    "def fasta_iter(file):\n",
    "    with open(file) as handle:\n",
    "        for record in FastaIterator(handle):\n",
    "            yield(record)"
   ]
  },
  {
   "cell_type": "code",
   "execution_count": 20,
   "metadata": {},
   "outputs": [],
   "source": [
    "file_directory_path = '/sbgenomics/project-files/'"
   ]
  },
  {
   "cell_type": "code",
   "execution_count": 21,
   "metadata": {},
   "outputs": [],
   "source": [
    "benchmark_config = {\n",
    "    'chromosomes': [\n",
    "        {\n",
    "            'name': 'Coffea arabica (coffee) chromosome 1c',\n",
    "            'file': 'coffea_arabica_chromosome_1c.fasta',\n",
    "            'patterns': [ 'ATGCATG', 'TCTCTCTA', 'TTCACTACTCTCA']\n",
    "        },\n",
    "        {\n",
    "            'name': 'Mus pahari (shrew mouse) chromosome x',\n",
    "            'file': 'mus_pahari_chromosome_x.fasta',\n",
    "            'patterns': [ 'ATGATG', 'CTCTCTA', 'TCACTACTCTCA']\n",
    "        },\n",
    "        {\n",
    "            'name': 'Homo sapiens (human) chromosome y',\n",
    "            'file': 'homo_sapiens_chromosome_y.fasta',\n",
    "            'patterns': [ 'GGAGTC', 'CAGCCCCACGGA', 'AGCGCC']\n",
    "        }\n",
    "    ],\n",
    "    'sa_factors': [ 1, 4, 16, 64, 256 ],\n",
    "    'tally_factors': [ 1, 8, 32, 128, 512 ]\n",
    "}"
   ]
  },
  {
   "cell_type": "code",
   "execution_count": 22,
   "metadata": {},
   "outputs": [
    {
     "name": "stdout",
     "output_type": "stream",
     "text": [
      "Requirement already satisfied: pympler in /opt/conda/lib/python3.6/site-packages (0.8)\n"
     ]
    }
   ],
   "source": [
    "!pip install pympler"
   ]
  },
  {
   "cell_type": "code",
   "execution_count": 23,
   "metadata": {},
   "outputs": [],
   "source": [
    "from pympler import asizeof\n",
    "from datetime import datetime, timedelta\n",
    "import random"
   ]
  },
  {
   "cell_type": "code",
   "execution_count": 24,
   "metadata": {},
   "outputs": [],
   "source": [
    "df_row_list = []"
   ]
  },
  {
   "cell_type": "code",
   "execution_count": 25,
   "metadata": {},
   "outputs": [
    {
     "name": "stdout",
     "output_type": "stream",
     "text": [
      "max=98\n",
      "max=88\n",
      "max=89\n"
     ]
    }
   ],
   "source": [
    "for chromosome in benchmark_config['chromosomes']:\n",
    "    max_it_i = random.randrange(70, 100)\n",
    "    it_i = 0\n",
    "    \n",
    "    print('max=' + str(max_it_i))\n",
    "    \n",
    "    for it in fasta_iter(file_directory_path + chromosome['file']):\n",
    "        t = it.seq + '$'\n",
    "        t_len = len(t)\n",
    "\n",
    "        l = bwt(t)\n",
    "        \n",
    "        l_memory = asizeof.asizeof(l)\n",
    "\n",
    "        for tally_factor in benchmark_config['tally_factors']:\n",
    "            f, tally = parse_l(l, tally_factor)\n",
    "            \n",
    "            f_memory = asizeof.asizeof(f)\n",
    "            tally_memory = asizeof.asizeof(tally)\n",
    "            \n",
    "            for sa_factor in benchmark_config['sa_factors']:\n",
    "                suffix_array = generate_suffix_array(t, sa_factor)\n",
    "                \n",
    "                suffix_array_memory = asizeof.asizeof(suffix_array)\n",
    "\n",
    "                for p in chromosome['patterns']:\n",
    "                    start = datetime.now()\n",
    "                    occurences = bwt_search(l, suffix_array, f, tally, p, tally_factor)\n",
    "                    \n",
    "                    df_row = {\n",
    "                        't_len': t_len,\n",
    "                        'p_len': len(p),\n",
    "                        'sa_factor': sa_factor,\n",
    "                        'tally_factor': tally_factor,\n",
    "                        'time': datetime.now() - start,\n",
    "                        'mem': l_memory + f_memory + tally_memory + suffix_array_memory\n",
    "                    }\n",
    "                                   \n",
    "                    df_row_list.append(df_row)\n",
    "        \n",
    "        if (it_i == max_it_i - 1):\n",
    "            break\n",
    "            \n",
    "        it_i += 1"
   ]
  },
  {
   "cell_type": "code",
   "execution_count": 26,
   "metadata": {},
   "outputs": [],
   "source": [
    "import pandas as pd\n",
    "df = pd.DataFrame(df_row_list)\n",
    "df.to_csv('output.csv', index=None)"
   ]
  },
  {
   "cell_type": "code",
   "execution_count": 27,
   "metadata": {},
   "outputs": [
    {
     "data": {
      "text/html": [
       "<a href='output.csv' target='_blank'>output.csv</a><br>"
      ],
      "text/plain": [
       "/sbgenomics/workspace/output.csv"
      ]
     },
     "execution_count": 27,
     "metadata": {},
     "output_type": "execute_result"
    }
   ],
   "source": [
    "from IPython.display import FileLink\n",
    "FileLink(r'output.csv')"
   ]
  },
  {
   "cell_type": "code",
   "execution_count": null,
   "metadata": {},
   "outputs": [],
   "source": []
  }
 ],
 "metadata": {
  "kernelspec": {
   "display_name": "Python 3",
   "language": "python",
   "name": "python3"
  },
  "language_info": {
   "codemirror_mode": {
    "name": "ipython",
    "version": 3
   },
   "file_extension": ".py",
   "mimetype": "text/x-python",
   "name": "python",
   "nbconvert_exporter": "python",
   "pygments_lexer": "ipython3",
   "version": "3.6.3"
  }
 },
 "nbformat": 4,
 "nbformat_minor": 2
}
